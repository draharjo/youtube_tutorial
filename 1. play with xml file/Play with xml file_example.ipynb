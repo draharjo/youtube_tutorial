{
 "cells": [
  {
   "cell_type": "code",
   "execution_count": 1,
   "id": "2d61f6ae",
   "metadata": {},
   "outputs": [],
   "source": [
    "import pandas as pd"
   ]
  },
  {
   "cell_type": "code",
   "execution_count": 2,
   "id": "24e6ec30",
   "metadata": {},
   "outputs": [],
   "source": [
    "file = \"00A1DF2C020EB697472579A60046E37B.xml\""
   ]
  },
  {
   "cell_type": "code",
   "execution_count": 5,
   "id": "325162ca",
   "metadata": {},
   "outputs": [
    {
     "data": {
      "text/html": [
       "<div>\n",
       "<style scoped>\n",
       "    .dataframe tbody tr th:only-of-type {\n",
       "        vertical-align: middle;\n",
       "    }\n",
       "\n",
       "    .dataframe tbody tr th {\n",
       "        vertical-align: top;\n",
       "    }\n",
       "\n",
       "    .dataframe thead th {\n",
       "        text-align: right;\n",
       "    }\n",
       "</style>\n",
       "<table border=\"1\" class=\"dataframe\">\n",
       "  <thead>\n",
       "    <tr style=\"text-align: right;\">\n",
       "      <th></th>\n",
       "      <th>maxlength</th>\n",
       "      <th>multivalue</th>\n",
       "      <th>name</th>\n",
       "      <th>type</th>\n",
       "      <th>value</th>\n",
       "    </tr>\n",
       "  </thead>\n",
       "  <tbody>\n",
       "    <tr>\n",
       "      <th>0</th>\n",
       "      <td>5</td>\n",
       "      <td>False</td>\n",
       "      <td>LND.ID</td>\n",
       "      <td>text</td>\n",
       "      <td>19C4A</td>\n",
       "    </tr>\n",
       "    <tr>\n",
       "      <th>1</th>\n",
       "      <td>32</td>\n",
       "      <td>False</td>\n",
       "      <td>LND.UNID</td>\n",
       "      <td>text</td>\n",
       "      <td>00A1DF2C020EB697472579A60046E37B</td>\n",
       "    </tr>\n",
       "    <tr>\n",
       "      <th>2</th>\n",
       "      <td>20</td>\n",
       "      <td>False</td>\n",
       "      <td>LND.Last modified date</td>\n",
       "      <td>datetime</td>\n",
       "      <td>2012-02-16T12:55:27Z</td>\n",
       "    </tr>\n",
       "    <tr>\n",
       "      <th>3</th>\n",
       "      <td>20</td>\n",
       "      <td>False</td>\n",
       "      <td>LND.Created date</td>\n",
       "      <td>datetime</td>\n",
       "      <td>2012-02-16T12:54:17Z</td>\n",
       "    </tr>\n",
       "    <tr>\n",
       "      <th>4</th>\n",
       "      <td>26</td>\n",
       "      <td>False</td>\n",
       "      <td>LND.Last modified by</td>\n",
       "      <td>name</td>\n",
       "      <td>CN=Bagas Fekaramboga/O=MAX</td>\n",
       "    </tr>\n",
       "    <tr>\n",
       "      <th>5</th>\n",
       "      <td>26</td>\n",
       "      <td>False</td>\n",
       "      <td>LND.Created by</td>\n",
       "      <td>name</td>\n",
       "      <td>CN=Bagas Fekaramboga/O=MAX</td>\n",
       "    </tr>\n",
       "    <tr>\n",
       "      <th>6</th>\n",
       "      <td>2</td>\n",
       "      <td>False</td>\n",
       "      <td>Form</td>\n",
       "      <td>text</td>\n",
       "      <td>CD</td>\n",
       "    </tr>\n",
       "    <tr>\n",
       "      <th>7</th>\n",
       "      <td>0</td>\n",
       "      <td>False</td>\n",
       "      <td>$Fonts</td>\n",
       "      <td>richtext</td>\n",
       "      <td>None</td>\n",
       "    </tr>\n",
       "    <tr>\n",
       "      <th>8</th>\n",
       "      <td>17</td>\n",
       "      <td>False</td>\n",
       "      <td>Submit</td>\n",
       "      <td>name</td>\n",
       "      <td>Bagas Fekaramboga</td>\n",
       "    </tr>\n",
       "    <tr>\n",
       "      <th>9</th>\n",
       "      <td>10</td>\n",
       "      <td>False</td>\n",
       "      <td>SubmitDate</td>\n",
       "      <td>datetime</td>\n",
       "      <td>2012-02-16</td>\n",
       "    </tr>\n",
       "    <tr>\n",
       "      <th>10</th>\n",
       "      <td>17</td>\n",
       "      <td>False</td>\n",
       "      <td>CurAuthor</td>\n",
       "      <td>name</td>\n",
       "      <td>Bagas Fekaramboga</td>\n",
       "    </tr>\n",
       "    <tr>\n",
       "      <th>11</th>\n",
       "      <td>9</td>\n",
       "      <td>False</td>\n",
       "      <td>Status</td>\n",
       "      <td>text</td>\n",
       "      <td>Submitted</td>\n",
       "    </tr>\n",
       "    <tr>\n",
       "      <th>12</th>\n",
       "      <td>1</td>\n",
       "      <td>False</td>\n",
       "      <td>SaveButton</td>\n",
       "      <td>text</td>\n",
       "      <td>0</td>\n",
       "    </tr>\n",
       "    <tr>\n",
       "      <th>13</th>\n",
       "      <td>7</td>\n",
       "      <td>False</td>\n",
       "      <td>tTitle</td>\n",
       "      <td>text</td>\n",
       "      <td>BTH DPR</td>\n",
       "    </tr>\n",
       "    <tr>\n",
       "      <th>14</th>\n",
       "      <td>0</td>\n",
       "      <td>False</td>\n",
       "      <td>tNumber</td>\n",
       "      <td>text</td>\n",
       "      <td>None</td>\n",
       "    </tr>\n",
       "    <tr>\n",
       "      <th>15</th>\n",
       "      <td>0</td>\n",
       "      <td>False</td>\n",
       "      <td>dlWork</td>\n",
       "      <td>text</td>\n",
       "      <td>None</td>\n",
       "    </tr>\n",
       "    <tr>\n",
       "      <th>16</th>\n",
       "      <td>0</td>\n",
       "      <td>False</td>\n",
       "      <td>dlBarge</td>\n",
       "      <td>text</td>\n",
       "      <td>None</td>\n",
       "    </tr>\n",
       "    <tr>\n",
       "      <th>17</th>\n",
       "      <td>10</td>\n",
       "      <td>False</td>\n",
       "      <td>dDate</td>\n",
       "      <td>datetime</td>\n",
       "      <td>2012-02-16</td>\n",
       "    </tr>\n",
       "    <tr>\n",
       "      <th>18</th>\n",
       "      <td>0</td>\n",
       "      <td>False</td>\n",
       "      <td>rRemarks</td>\n",
       "      <td>text</td>\n",
       "      <td>None</td>\n",
       "    </tr>\n",
       "    <tr>\n",
       "      <th>19</th>\n",
       "      <td>0</td>\n",
       "      <td>False</td>\n",
       "      <td>rAttachment</td>\n",
       "      <td>richtext</td>\n",
       "      <td>None</td>\n",
       "    </tr>\n",
       "    <tr>\n",
       "      <th>20</th>\n",
       "      <td>15</td>\n",
       "      <td>False</td>\n",
       "      <td>Revised</td>\n",
       "      <td>name</td>\n",
       "      <td>Martua Pasaribu</td>\n",
       "    </tr>\n",
       "    <tr>\n",
       "      <th>21</th>\n",
       "      <td>15</td>\n",
       "      <td>False</td>\n",
       "      <td>Received</td>\n",
       "      <td>name</td>\n",
       "      <td>Martua Pasaribu</td>\n",
       "    </tr>\n",
       "    <tr>\n",
       "      <th>22</th>\n",
       "      <td>17</td>\n",
       "      <td>True</td>\n",
       "      <td>DocAuthor</td>\n",
       "      <td>author</td>\n",
       "      <td>[DBAdmin]</td>\n",
       "    </tr>\n",
       "    <tr>\n",
       "      <th>23</th>\n",
       "      <td>56</td>\n",
       "      <td>False</td>\n",
       "      <td>History</td>\n",
       "      <td>text</td>\n",
       "      <td>02/16/2012 07:54:56 PM : Bagas Fekaramboga (SU...</td>\n",
       "    </tr>\n",
       "    <tr>\n",
       "      <th>24</th>\n",
       "      <td>26</td>\n",
       "      <td>False</td>\n",
       "      <td>$UpdatedBy</td>\n",
       "      <td>name</td>\n",
       "      <td>CN=Bagas Fekaramboga/O=MAX</td>\n",
       "    </tr>\n",
       "  </tbody>\n",
       "</table>\n",
       "</div>"
      ],
      "text/plain": [
       "    maxlength  multivalue                    name      type  \\\n",
       "0           5       False                  LND.ID      text   \n",
       "1          32       False                LND.UNID      text   \n",
       "2          20       False  LND.Last modified date  datetime   \n",
       "3          20       False        LND.Created date  datetime   \n",
       "4          26       False    LND.Last modified by      name   \n",
       "5          26       False          LND.Created by      name   \n",
       "6           2       False                    Form      text   \n",
       "7           0       False                  $Fonts  richtext   \n",
       "8          17       False                  Submit      name   \n",
       "9          10       False              SubmitDate  datetime   \n",
       "10         17       False               CurAuthor      name   \n",
       "11          9       False                  Status      text   \n",
       "12          1       False              SaveButton      text   \n",
       "13          7       False                  tTitle      text   \n",
       "14          0       False                 tNumber      text   \n",
       "15          0       False                  dlWork      text   \n",
       "16          0       False                 dlBarge      text   \n",
       "17         10       False                   dDate  datetime   \n",
       "18          0       False                rRemarks      text   \n",
       "19          0       False             rAttachment  richtext   \n",
       "20         15       False                 Revised      name   \n",
       "21         15       False                Received      name   \n",
       "22         17        True               DocAuthor    author   \n",
       "23         56       False                 History      text   \n",
       "24         26       False              $UpdatedBy      name   \n",
       "\n",
       "                                                value  \n",
       "0                                               19C4A  \n",
       "1                    00A1DF2C020EB697472579A60046E37B  \n",
       "2                                2012-02-16T12:55:27Z  \n",
       "3                                2012-02-16T12:54:17Z  \n",
       "4                          CN=Bagas Fekaramboga/O=MAX  \n",
       "5                          CN=Bagas Fekaramboga/O=MAX  \n",
       "6                                                  CD  \n",
       "7                                                None  \n",
       "8                                   Bagas Fekaramboga  \n",
       "9                                          2012-02-16  \n",
       "10                                  Bagas Fekaramboga  \n",
       "11                                          Submitted  \n",
       "12                                                  0  \n",
       "13                                            BTH DPR  \n",
       "14                                               None  \n",
       "15                                               None  \n",
       "16                                               None  \n",
       "17                                         2012-02-16  \n",
       "18                                               None  \n",
       "19                                               None  \n",
       "20                                    Martua Pasaribu  \n",
       "21                                    Martua Pasaribu  \n",
       "22                                          [DBAdmin]  \n",
       "23  02/16/2012 07:54:56 PM : Bagas Fekaramboga (SU...  \n",
       "24                         CN=Bagas Fekaramboga/O=MAX  "
      ]
     },
     "execution_count": 5,
     "metadata": {},
     "output_type": "execute_result"
    }
   ],
   "source": [
    "df = pd.read_xml(file)\n",
    "df"
   ]
  },
  {
   "cell_type": "markdown",
   "id": "55977a42",
   "metadata": {},
   "source": [
    "# Parsing data\n",
    "- LND.UNID\n",
    "- LND.Created date\n",
    "- tTitle"
   ]
  },
  {
   "cell_type": "code",
   "execution_count": 12,
   "id": "79388b14",
   "metadata": {},
   "outputs": [],
   "source": [
    "document_name = df[df[\"name\"] == \"LND.UNID\"].value.item()"
   ]
  },
  {
   "cell_type": "code",
   "execution_count": 13,
   "id": "cca914c0",
   "metadata": {},
   "outputs": [],
   "source": [
    "created_date = df[df[\"name\"] == \"LND.Created date\"].value.item().split(\"T\")[0]"
   ]
  },
  {
   "cell_type": "code",
   "execution_count": 14,
   "id": "8611458d",
   "metadata": {},
   "outputs": [],
   "source": [
    "document_title = df[df[\"name\"] == \"tTitle\"].value.item()"
   ]
  },
  {
   "cell_type": "code",
   "execution_count": 15,
   "id": "8be9fc29",
   "metadata": {},
   "outputs": [
    {
     "data": {
      "text/plain": [
       "['00A1DF2C020EB697472579A60046E37B', '2012-02-16', 'BTH DPR']"
      ]
     },
     "execution_count": 15,
     "metadata": {},
     "output_type": "execute_result"
    }
   ],
   "source": [
    "[document_name, created_date, document_title]"
   ]
  },
  {
   "cell_type": "markdown",
   "id": "362ace3f",
   "metadata": {},
   "source": [
    "# Looping all files in the folders"
   ]
  },
  {
   "cell_type": "code",
   "execution_count": 18,
   "id": "550f30fb",
   "metadata": {},
   "outputs": [],
   "source": [
    "import os\n",
    "path = os.getcwd()\n",
    "\n",
    "list_files = [file for file in os.listdir(path) if file.split(\".\")[1] == \"xml\"]"
   ]
  },
  {
   "cell_type": "code",
   "execution_count": 19,
   "id": "f30bbb8d",
   "metadata": {},
   "outputs": [
    {
     "data": {
      "text/plain": [
       "['00A1DF2C020EB697472579A60046E37B.xml',\n",
       " '00A5B7934EB74407472577710034B0F2.xml',\n",
       " '00A9B8DCAFC9085847257C8400464EBB.xml']"
      ]
     },
     "execution_count": 19,
     "metadata": {},
     "output_type": "execute_result"
    }
   ],
   "source": [
    "list_files"
   ]
  },
  {
   "cell_type": "markdown",
   "id": "50a5a022",
   "metadata": {},
   "source": [
    "# Wrapping jadi satu "
   ]
  },
  {
   "cell_type": "code",
   "execution_count": 21,
   "id": "dcbce934",
   "metadata": {},
   "outputs": [],
   "source": [
    "import os\n",
    "\n",
    "path = os.getcwd()\n",
    "list_files = [file for file in os.listdir(path) if file.split(\".\")[1] == \"xml\"]\n",
    "file_description = []\n",
    "for file in list_files:\n",
    "    df = pd.read_xml(file)\n",
    "    document_name = df[df[\"name\"] == \"LND.UNID\"].value.item()\n",
    "    created_date = df[df[\"name\"] == \"LND.Created date\"].value.item().split(\"T\")[0]\n",
    "    document_title = df[df[\"name\"] == \"tTitle\"].value.item()\n",
    "    file_description.append([document_name, created_date, document_title])"
   ]
  },
  {
   "cell_type": "code",
   "execution_count": 26,
   "id": "f1f687df",
   "metadata": {},
   "outputs": [],
   "source": [
    "df_new = pd.DataFrame(file_description, columns = [\"document_name\", \"created_date\", \"document_title\"])"
   ]
  },
  {
   "cell_type": "code",
   "execution_count": 30,
   "id": "06da9f10",
   "metadata": {},
   "outputs": [],
   "source": [
    "df_new.to_csv(\"extracted document.csv\", index= False)"
   ]
  }
 ],
 "metadata": {
  "kernelspec": {
   "display_name": "Python 3",
   "language": "python",
   "name": "python3"
  },
  "language_info": {
   "codemirror_mode": {
    "name": "ipython",
    "version": 3
   },
   "file_extension": ".py",
   "mimetype": "text/x-python",
   "name": "python",
   "nbconvert_exporter": "python",
   "pygments_lexer": "ipython3",
   "version": "3.8.8"
  },
  "varInspector": {
   "cols": {
    "lenName": 16,
    "lenType": 16,
    "lenVar": 40
   },
   "kernels_config": {
    "python": {
     "delete_cmd_postfix": "",
     "delete_cmd_prefix": "del ",
     "library": "var_list.py",
     "varRefreshCmd": "print(var_dic_list())"
    },
    "r": {
     "delete_cmd_postfix": ") ",
     "delete_cmd_prefix": "rm(",
     "library": "var_list.r",
     "varRefreshCmd": "cat(var_dic_list()) "
    }
   },
   "types_to_exclude": [
    "module",
    "function",
    "builtin_function_or_method",
    "instance",
    "_Feature"
   ],
   "window_display": false
  }
 },
 "nbformat": 4,
 "nbformat_minor": 5
}
