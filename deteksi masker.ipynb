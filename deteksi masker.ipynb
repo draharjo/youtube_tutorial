{
 "cells": [
  {
   "cell_type": "code",
   "execution_count": 3,
   "id": "ff8675a8",
   "metadata": {},
   "outputs": [
    {
     "name": "stdout",
     "output_type": "stream",
     "text": [
      "WARNING:tensorflow:No training configuration found in the save file, so the model was *not* compiled. Compile it manually.\n",
      "[[0.94951016 0.05048987]]\n"
     ]
    }
   ],
   "source": [
    "from keras.models import load_model\n",
    "from PIL import Image, ImageOps\n",
    "import numpy as np\n",
    "\n",
    "# Load the model\n",
    "model = load_model('keras_model.h5')\n",
    "\n",
    "#membuat data dengan dimensi N (jumlah), H (tinggi), W(width), C(channel) --> RGB\n",
    "data = np.ndarray(shape=(1, 224, 224, 3), dtype=np.float32)\n",
    "\n",
    "# membuka image yang akan kita klasifikasi\n",
    "image = Image.open('masker.jpg')\n",
    "\n",
    "#resize the image to a 224x224\n",
    "size = (224, 224)\n",
    "image = ImageOps.fit(image, size, Image.ANTIALIAS)\n",
    "\n",
    "#turn the image into a numpy array\n",
    "image_array = np.asarray(image)\n",
    "\n",
    "# Normalize the image --> 0 - 225 --> -1 sampai 1\n",
    "normalized_image_array = (image_array.astype(np.float32) / 127.0) - 1\n",
    "\n",
    "# Load the image into the array\n",
    "data[0] = normalized_image_array\n",
    "\n",
    "# run the inference\n",
    "prediction = model.predict(data)\n",
    "print(prediction)"
   ]
  },
  {
   "cell_type": "markdown",
   "id": "29f83b81",
   "metadata": {},
   "source": [
    "# Tweaking the code"
   ]
  },
  {
   "cell_type": "code",
   "execution_count": 4,
   "id": "1d859dc2",
   "metadata": {},
   "outputs": [
    {
     "name": "stdout",
     "output_type": "stream",
     "text": [
      "WARNING:tensorflow:No training configuration found in the save file, so the model was *not* compiled. Compile it manually.\n",
      "[[0.94951016 0.05048987]]\n"
     ]
    }
   ],
   "source": [
    "from keras.models import load_model\n",
    "from PIL import Image, ImageOps\n",
    "import numpy as np\n",
    "\n",
    "# Load the model\n",
    "model = load_model('keras_model.h5')\n",
    "#membuat data dengan dimensi N (jumlah), H (tinggi), W(width), C(channel) --> RGB\n",
    "data = np.ndarray(shape=(1, 224, 224, 3), dtype=np.float32)\n",
    "# membuka image yang akan kita klasifikasi\n",
    "image = Image.open('masker.jpg')\n",
    "#resize the image to a 224x224\n",
    "size = (224, 224)\n",
    "image = ImageOps.fit(image, size, Image.ANTIALIAS)\n",
    "#turn the image into a numpy array\n",
    "image_array = np.asarray(image)\n",
    "# Normalize the image --> 0 - 225 --> -1 sampai 1\n",
    "normalized_image_array = (image_array.astype(np.float32) / 127.0) - 1\n",
    "# Load the image into the array\n",
    "data[0] = normalized_image_array\n",
    "# run the inference\n",
    "prediction = model.predict(data)\n",
    "print(prediction)"
   ]
  },
  {
   "cell_type": "markdown",
   "id": "8b2c231b",
   "metadata": {},
   "source": [
    "## mencari index maximum"
   ]
  },
  {
   "cell_type": "code",
   "execution_count": 5,
   "id": "6be73864",
   "metadata": {},
   "outputs": [
    {
     "data": {
      "text/plain": [
       "array([[0.94951016, 0.05048987]], dtype=float32)"
      ]
     },
     "execution_count": 5,
     "metadata": {},
     "output_type": "execute_result"
    }
   ],
   "source": [
    "prediction"
   ]
  },
  {
   "cell_type": "code",
   "execution_count": 7,
   "id": "57e93bdb",
   "metadata": {},
   "outputs": [
    {
     "data": {
      "text/plain": [
       "'bermasker'"
      ]
     },
     "execution_count": 7,
     "metadata": {},
     "output_type": "execute_result"
    }
   ],
   "source": [
    "img_class = {0:\"bermasker\", 1:\"tidak bermasker\"}\n",
    "img_class[np.argmax(prediction)]"
   ]
  },
  {
   "cell_type": "code",
   "execution_count": 11,
   "id": "7ee53f5a",
   "metadata": {},
   "outputs": [
    {
     "data": {
      "text/plain": [
       "'0.95'"
      ]
     },
     "execution_count": 11,
     "metadata": {},
     "output_type": "execute_result"
    }
   ],
   "source": [
    "\"{0:.2f}\".format(np.max(prediction))"
   ]
  },
  {
   "cell_type": "markdown",
   "id": "dac1577f",
   "metadata": {},
   "source": [
    "# Wrapping menjadi satu fungsi"
   ]
  },
  {
   "cell_type": "code",
   "execution_count": 14,
   "id": "12f29377",
   "metadata": {},
   "outputs": [
    {
     "name": "stdout",
     "output_type": "stream",
     "text": [
      "WARNING:tensorflow:No training configuration found in the save file, so the model was *not* compiled. Compile it manually.\n"
     ]
    }
   ],
   "source": [
    "# Load the model\n",
    "model = load_model('keras_model.h5')\n",
    "\n",
    "def classify_image(img_path): \n",
    "    data = np.ndarray(shape=(1, 224, 224, 3), dtype=np.float32) #membuat data dengan dimensi N (jumlah), H (tinggi), W(width), C(channel) --> RGB\n",
    "    image = Image.open('masker.jpg') # membuka image yang akan kita klasifikasi\n",
    "\n",
    "    #resize the image to a 224x224\n",
    "    size = (224, 224)\n",
    "    image = ImageOps.fit(image, size, Image.ANTIALIAS)\n",
    "    image_array = np.asarray(image) #turn the image into a numpy array\n",
    "\n",
    "    normalized_image_array = (image_array.astype(np.float32) / 127.0) - 1 # Normalize the image --> 0 - 225 --> -1 sampai 1\n",
    "\n",
    "    data[0] = normalized_image_array # Load the image into the array\n",
    "    img_class = {0:\"bermasker\", 1:\"tidak bermasker\"}\n",
    "    prediction = model.predict(data) # run the inference\n",
    "    \n",
    "    return(img_class[np.argmax(prediction)], \"{0:.2f}\".format(np.max(prediction)))"
   ]
  },
  {
   "cell_type": "code",
   "execution_count": 17,
   "id": "81d68d87",
   "metadata": {},
   "outputs": [
    {
     "data": {
      "text/plain": [
       "('bermasker', '0.95')"
      ]
     },
     "execution_count": 17,
     "metadata": {},
     "output_type": "execute_result"
    }
   ],
   "source": [
    "img_path = \"masker.jpg\"\n",
    "classify_image(img_path)"
   ]
  },
  {
   "cell_type": "markdown",
   "id": "f95d85ae",
   "metadata": {},
   "source": [
    "# Realtime classification"
   ]
  },
  {
   "cell_type": "code",
   "execution_count": 21,
   "id": "a3c92e12",
   "metadata": {},
   "outputs": [
    {
     "name": "stdout",
     "output_type": "stream",
     "text": [
      "640.0 480.0\n"
     ]
    }
   ],
   "source": [
    "import cv2\n",
    "cap = cv2.VideoCapture(0) #memperbolehkan cv2 mengambil gambar\n",
    "print(cap.get(3), cap.get(4))\n",
    "\n",
    "while True:\n",
    "    ret, frame = cap.read() #return gambar yang diambil oleh opencv \n",
    "    if ret == True:\n",
    "        cv2.imshow(\"prediction\", frame) #menampilkan gambar\n",
    "        \n",
    "    if cv2.waitKey(1) & 0xFF == ord('q'): #close window tekan \"q\"\n",
    "        break\n",
    "        \n",
    "cap.release()\n",
    "cv2.destroyAllWindows()"
   ]
  },
  {
   "cell_type": "markdown",
   "id": "f9f50af9",
   "metadata": {},
   "source": [
    "## resize 640 x 480 --> 224 x 224"
   ]
  },
  {
   "cell_type": "code",
   "execution_count": 24,
   "id": "c47b671c",
   "metadata": {},
   "outputs": [
    {
     "name": "stdout",
     "output_type": "stream",
     "text": [
      "640.0 480.0\n"
     ]
    }
   ],
   "source": [
    "import cv2\n",
    "cap = cv2.VideoCapture(0) #memperbolehkan cv2 mengambil gambar\n",
    "print(cap.get(3), cap.get(4))\n",
    "w = cap.get(3)\n",
    "h = cap.get(4)\n",
    "\n",
    "a_w = 224/w\n",
    "a_h = 224/h\n",
    "\n",
    "while True:\n",
    "    ret, frame = cap.read() #return gambar yang diambil oleh opencv \n",
    "    if ret == True:\n",
    "        frame_to_clf = cv2.resize(frame, None, fx= a_w, fy = a_h)\n",
    "        cv2.imshow(\"prediction\", frame_to_clf) #menampilkan gambar\n",
    "        \n",
    "    if cv2.waitKey(1) & 0xFF == ord('q'): #close window tekan \"q\"\n",
    "        break\n",
    "        \n",
    "cap.release()\n",
    "cv2.destroyAllWindows()"
   ]
  },
  {
   "cell_type": "markdown",
   "id": "d07a2dbe",
   "metadata": {},
   "source": [
    "# Menggabungkan fungsi klasifikasi w/ AI + OpenCV"
   ]
  },
  {
   "cell_type": "code",
   "execution_count": 8,
   "id": "d844b516",
   "metadata": {},
   "outputs": [
    {
     "name": "stdout",
     "output_type": "stream",
     "text": [
      "WARNING:tensorflow:No training configuration found in the save file, so the model was *not* compiled. Compile it manually.\n",
      "640.0 480.0\n",
      "('tidak bermasker', '1.00')    "
     ]
    }
   ],
   "source": [
    "from keras.models import load_model\n",
    "from PIL import Image, ImageOps\n",
    "import numpy as np\n",
    "\n",
    "# Load the model\n",
    "model = load_model('keras_model.h5')\n",
    "\n",
    "def classify_image(img_path): \n",
    "    data = np.ndarray(shape=(1, 224, 224, 3), dtype=np.float32) #membuat data dengan dimensi N (jumlah), H (tinggi), W(width), C(channel) --> RGB\n",
    "    image = img_path\n",
    "    image_array = np.asarray(image) #turn the image into a numpy array\n",
    "    normalized_image_array = (image_array.astype(np.float32) / 127.0) - 1 # Normalize the image --> 0 - 225 --> -1 sampai 1\n",
    "    data[0] = normalized_image_array # Load the image into the array\n",
    "    img_class = {0:\"bermasker\", 1:\"tidak bermasker\"}\n",
    "    prediction = model.predict(data) # run the inference\n",
    "    return(img_class[np.argmax(prediction)], \"{0:.2f}\".format(np.max(prediction)))\n",
    "\n",
    "import cv2\n",
    "cap = cv2.VideoCapture(0) #memperbolehkan cv2 mengambil gambar\n",
    "print(cap.get(3), cap.get(4))\n",
    "w = cap.get(3)\n",
    "h = cap.get(4)\n",
    "\n",
    "a_w = 224/w\n",
    "a_h = 224/h\n",
    "\n",
    "def draw(text):\n",
    "    '''\n",
    "    function untuk menambahkan hasil klasifikasi ke realtime image footage\n",
    "    '''\n",
    "    font = cv2.FONT_ITALIC\n",
    "    if text[0] == \"bermasker\":\n",
    "        text = str(text)\n",
    "        cv2.putText(frame, text, (20,40), font, 1, (255,0,0), 1, cv2.LINE_AA)\n",
    "    else:\n",
    "        text = str(text)\n",
    "        cv2.putText(frame, text, (20,40), font, 1, (0,0, 238), 1, cv2.LINE_AA)\n",
    "\n",
    "while True:\n",
    "    ret, frame = cap.read() #return gambar yang diambil oleh opencv \n",
    "    if ret == True:\n",
    "        frame_to_clf = cv2.resize(frame, None, fx= a_w, fy = a_h)\n",
    "        prediction = classify_image(frame_to_clf)\n",
    "        print(\"\\r\" + str(prediction), end=\"  \")\n",
    "        \n",
    "        draw(prediction)\n",
    "        cv2.imshow(\"prediction\", frame) #menampilkan gambar\n",
    "        \n",
    "    if cv2.waitKey(1) & 0xFF == ord('q'): #close window tekan \"q\"\n",
    "        break\n",
    "        \n",
    "cap.release()\n",
    "cv2.destroyAllWindows()"
   ]
  },
  {
   "cell_type": "code",
   "execution_count": null,
   "id": "b0f83d04",
   "metadata": {},
   "outputs": [],
   "source": []
  },
  {
   "cell_type": "code",
   "execution_count": null,
   "id": "34426901",
   "metadata": {},
   "outputs": [],
   "source": []
  },
  {
   "cell_type": "code",
   "execution_count": null,
   "id": "c541b850",
   "metadata": {},
   "outputs": [],
   "source": []
  },
  {
   "cell_type": "code",
   "execution_count": null,
   "id": "02ef38ae",
   "metadata": {},
   "outputs": [],
   "source": []
  }
 ],
 "metadata": {
  "kernelspec": {
   "display_name": "Python 3",
   "language": "python",
   "name": "python3"
  },
  "language_info": {
   "codemirror_mode": {
    "name": "ipython",
    "version": 3
   },
   "file_extension": ".py",
   "mimetype": "text/x-python",
   "name": "python",
   "nbconvert_exporter": "python",
   "pygments_lexer": "ipython3",
   "version": "3.8.8"
  },
  "varInspector": {
   "cols": {
    "lenName": 16,
    "lenType": 16,
    "lenVar": 40
   },
   "kernels_config": {
    "python": {
     "delete_cmd_postfix": "",
     "delete_cmd_prefix": "del ",
     "library": "var_list.py",
     "varRefreshCmd": "print(var_dic_list())"
    },
    "r": {
     "delete_cmd_postfix": ") ",
     "delete_cmd_prefix": "rm(",
     "library": "var_list.r",
     "varRefreshCmd": "cat(var_dic_list()) "
    }
   },
   "types_to_exclude": [
    "module",
    "function",
    "builtin_function_or_method",
    "instance",
    "_Feature"
   ],
   "window_display": false
  }
 },
 "nbformat": 4,
 "nbformat_minor": 5
}
